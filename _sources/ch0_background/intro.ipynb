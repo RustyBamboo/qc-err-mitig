{
 "cells": [
  {
   "cell_type": "markdown",
   "id": "8487d036",
   "metadata": {},
   "source": [
    "# About this tutorial"
   ]
  },
  {
   "cell_type": "code",
   "execution_count": 1,
   "id": "22bbddd9",
   "metadata": {
    "tags": [
     "remove-cell"
    ]
   },
   "outputs": [],
   "source": [
    "# This cell is present in all the notebooks.\n",
    "# It makes the necessary packages available and adjusts various settings.\n",
    "# You should execute this cell at the start.\n",
    "\n",
    "\n",
    "#init_notebook()\n",
    "\n",
    "#from IPython.display import HTML"
   ]
  },
  {
   "cell_type": "markdown",
   "id": "d6a7a8e1",
   "metadata": {},
   "source": [
    "In this tutorial we seek to provide an introduction to the topic of noise in quantum computers, and particularly, strategies to _characterize and mitigate_ this noise.\n",
    "We want this tutorial to be accessible and useful to people with different backgrounds and motivations.\n",
    "\n",
    "We specifically hope this tutorial is useful to \n",
    "- someone working directly in increasing the performance of quantum computers\n",
    "- someone wanting to perform calculations on contemporary (noisy) quantum computers\n",
    "- someone who simply wants to learn\n",
    "\n",
    "\n",
    "Finally, we also want this tutorial to be equally useful if you are, say, a professor and you want to apply the ideas and just need a quick overview of what research activity is there.\n",
    "\n",
    "We hope that you find something useful, and we always appreciate your questions and feedback. You can open an issue, (or even make a pull request right away).\n",
    "\n",
    "```{tip}\n",
    "You can run any code in this tutorial yourself either by downloading the code locally or via the cloud using `binder`.\n",
    "\n",
    "Locally:\n",
    "- Get the code: `git clone https://github.com/RustyBamboo/qc-err-mitig`\n",
    "- Install the python requirements\n",
    "- Open the source files using [`jupytext`](https://jupytext.readthedocs.io/en/latest/) extension\n",
    "\n",
    "Cloud:\n",
    "- Click on the rocket in the top right corner of any page\n",
    "```"
   ]
  },
  {
   "cell_type": "markdown",
   "id": "65b2fb0f",
   "metadata": {},
   "source": [
    "## Structure\n",
    "\n",
    "The tutorial is meant to be _cohesive_ -- at the bare minimum links are provided to resources to explore the topics outside the scope of this tutorial.\n",
    "\n",
    "Topics covered:\n",
    "1. Introduction to Quantum Computing\n",
    "2. Noise Characterization\n",
    "3. Noise Mitigation\n",
    "4. Software and Quantum Toolchains\n",
    "\n",
    "## Prerequisites\n",
    "\n",
    "### Background knowledge\n",
    "\n",
    "While the math that we use only requires linear algebra and calculus, this tutorial is complex. We will work directly with the Schrödinger equation, and various quantum theories. We provide an introduction to hopefully ease the learning curve to the math, but those without any previous exposure to these mathematical and quantum contexts will find the tutorial difficult to truly appreciate.\n",
    "\n",
    "### Code\n",
    "\n",
    "We provide source code for all the computer simulations used in the tutorial as well as suggestions of what you can investigate on your own. In order to use these, you need to be familiar with Python. Additionally we make use of a number of python packages:\n",
    "\n",
    "- numpy\n",
    "- scipy\n",
    "- qutip\n",
    "- qiskit\n",
    "- mitiq"
   ]
  }
 ],
 "metadata": {
  "jupytext": {
   "text_representation": {
    "extension": ".md",
    "format_name": "myst",
    "format_version": 0.13,
    "jupytext_version": "1.11.4"
   }
  },
  "kernelspec": {
   "display_name": "Python 3",
   "language": "python",
   "name": "python3"
  },
  "language_info": {
   "codemirror_mode": {
    "name": "ipython",
    "version": 3
   },
   "file_extension": ".py",
   "mimetype": "text/x-python",
   "name": "python",
   "nbconvert_exporter": "python",
   "pygments_lexer": "ipython3",
   "version": "3.10.7"
  },
  "source_map": [
   12,
   16,
   27,
   53
  ]
 },
 "nbformat": 4,
 "nbformat_minor": 5
}