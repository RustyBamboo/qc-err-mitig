{
 "cells": [
  {
   "cell_type": "markdown",
   "id": "33e5cef0",
   "metadata": {},
   "source": [
    "# Quantum Measurement Theory\n",
    "\n",
    "One of the many things that make quantum systems interesting is the effects and consequences of measurement. \n",
    "\n",
    "Traditionally the description of measurement in quantum mechanics is terms of project measurements, namely if you have some observable $\\hat{\\Lambda}$ then it can be diagonalized using eigenvalues $\\lambda$ and projection operators $\\hat{\\Pi_\\lambda}$: $\\hat{\\Lambda} = \\sum_\\lambda \\lambda \\hat{\\Pi_\\lambda}$\n",
    "\n",
    "The consequences are that for a pure state $\\ket{\\psi}$, the probability to obtain some $\\lambda$ is $p_\\lambda = \\bra{\\psi} \\Pi_\\lambda \\ket{\\psi}$. Likewise the conditional state would be $\\ket{\\psi_\\lambda} = \\Pi_\\lambda \\ket{\\psi} / \\sqrt{p_\\lambda}$. For matrix states, the probability is given by $p_\\lambda = Tr[\\rho \\hat{\\Pi_\\lambda}]$ and the conoditional state will then be $\\rho_\\lambda = \\frac{\\hat{\\Pi_\\lambda} \\rho \\hat{P_\\lambda}}{p_\\lambda}$\n",
    "\n",
    "But what about the unconditional state? I.e. what if one *makes the measurement, but ignores the result*. This will result in a state matrix: \n",
    "\n",
    "$$\n",
    "\\rho(T) = \\sum_\\lambda p_\\lambda \\rho_\\lambda = \\sum_\\lambda \\hat{\\Pi_\\lambda} \\rho \\hat{\\Pi_\\lambda}\n",
    "$$\n",
    "\n",
    "Projective measurement is an interesting property because in general, it is an entropy-increasing process. Which is a sharp contrast to what happens classically: the unconditional classical state after non-disturbing measurement is identical to the state before the measurement. \n",
    "\n",
    "## Systems and meters\n",
    "\n",
    "Unfortunately, projective measurement is inadequate. For one, there will be classical noise due to the measuring apparatus. Another more interesting reason is that there are measurement in which the conditional states will not be left in the eigenstate of the measured quantity. Example would be in photon counting, where measurement would leave a vacuum state. The primary reason for these problems is because measurement is usually not done on the system itself but rather observes what effect the system has on the environment.\n",
    "\n",
    "So now we look at the combined system of our apparatus $\\ket{\\theta}$ and our system $\\ket{\\psi}$:\n",
    "\n",
    "$$\n",
    "\\ket{\\Psi} = \\ket{\\theta}\\ket{\\psi}\n",
    "$$\n",
    "\n",
    "Some entanglement procedure is done to couple the state:\n",
    "\n",
    "$$\n",
    "\\ket{\\Psi(T)} = \\hat{U} \\ket{\\theta}\\ket{\\psi}\n",
    "$$\n",
    "\n",
    "Now, with a projective measurement $\\hat{\\Pi_r} = \\ket{r}\\bra{r} \\otimes \\hat{I}$, we would have the conditioned state:\n",
    "\n",
    "$$\n",
    "\\Psi_r(T) = \\frac{\\ket{r}\\bra{r} \\hat{U} \\ket{\\theta}\\ket{\\psi}}{\\sqrt{p_r}}\n",
    "$$\n",
    "\n",
    "The measurement disentangles the system and the apparatus, so we can write it as:\n",
    "\n",
    "$$\n",
    "\\Psi_r(T) = \\ket{r} \\frac{\\hat{M_r} \\ket{\\psi}}{\\sqrt{p_r}}\n",
    "$$\n",
    "\n",
    "where $\\hat{M_r} = \\bra{r}\\hat{U}\\ket{\\theta}$ and is called the measurement operator. The probability distribution for would then be $p_r = \\bra{\\psi}\\hat{M_r}^\\dagger \\hat{M_r} \\ket{\\psi}$\n",
    "\n",
    "Now, because the system and apparatus are no longer entangled, everything can be viewed purely with the measurement operators. E.g.: $\\psi(T) = \\frac{\\hat{M_r} \\ket{\\psi}}{\\sqrt{p_r}}.$\n",
    "\n",
    "If we just make one measurement, then the conditioned state is $\\ket{\\psi_r}$ would be not of great interest. If did a sequence of measurements, then the state matrix of the conditioned state would be:\n",
    "\n",
    "$$\n",
    "\\rho_r =  \\frac{\\hat{M_r} \\rho \\hat{M_r}^\\dagger}{p_r} = \\frac{\\mathcal{J}[\\hat{M_r}] \\rho}{p_r}\n",
    "$$\n",
    "\n",
    "What if we ignored the results? Well then the state would be:\n",
    "\n",
    "$$\n",
    "\\rho = \\sum_r p_r \\rho(T) = \\sum_r \\mathcal{J}[\\hat{M_r}] \\rho_r.\n",
    "$$\n",
    "\n",
    "What this all tells us, is that preforming non-projective measurement, we have no guarantee that repeating the measurement will yield the same result. In fact, the final state may be completely unrelated to the initial state or the results obtained.\n",
    "\n",
    "## Example: Quantum Teleportation\n",
    "\n",
    "Alice (A) wants to send Bob (B) a qubit. Alice owns a qubit that she wants to send as well as a qubit that is entangled with Bob's qubit.\n",
    "\n",
    "Create an entangled pair:\n",
    "\n",
    "$$\n",
    "\\frac{1}{\\sqrt{2}} \\left( \\left | 00 \\right \\rangle + \\left | 11 \\right \\rangle \\right)\n",
    "$$"
   ]
  },
  {
   "cell_type": "code",
   "execution_count": 1,
   "id": "7a3a9adf",
   "metadata": {
    "tags": [
     "remove-cell"
    ]
   },
   "outputs": [],
   "source": [
    "import numpy as np"
   ]
  },
  {
   "cell_type": "code",
   "execution_count": 2,
   "id": "9cff34c5",
   "metadata": {},
   "outputs": [
    {
     "name": "stdout",
     "output_type": "stream",
     "text": [
      "[[0.70710678]\n",
      " [0.        ]\n",
      " [0.        ]\n",
      " [0.70710678]]\n"
     ]
    }
   ],
   "source": [
    "EPR = np.array([[1], [0], [0], [1]])/np.sqrt(2)\n",
    "print(EPR)"
   ]
  },
  {
   "cell_type": "markdown",
   "id": "ea4bea42",
   "metadata": {},
   "source": [
    "Create an arbitrary state $(\\alpha \\left | 0 \\right \\rangle + \\beta \\left | 1 \\right \\rangle)$  that Alice will send to Bob. In this case the state is simply:\n",
    "\n",
    "$$\n",
    "\\left | \\phi \\right \\rangle = \\frac{1}{\\sqrt{2}} \\left( \\left | 0 \\right \\rangle - \\left | 1 \\right \\rangle \\right)\n",
    "$$"
   ]
  },
  {
   "cell_type": "code",
   "execution_count": 3,
   "id": "991731e6",
   "metadata": {},
   "outputs": [
    {
     "name": "stdout",
     "output_type": "stream",
     "text": [
      "[[ 0.70710678]\n",
      " [-0.70710678]]\n"
     ]
    }
   ],
   "source": [
    "phi = np.array([[1], [-1]])\n",
    "phi = phi /np.linalg.norm(phi)\n",
    "print(phi)"
   ]
  },
  {
   "cell_type": "markdown",
   "id": "f4602aa8",
   "metadata": {},
   "source": [
    "Now the state of the three qubits looks like:\n",
    "\n",
    "$$\n",
    "\\left | \\psi \\right \\rangle =   \\left | \\phi \\right \\rangle \\otimes \\frac{1}{\\sqrt{2}} \\left( \\left | 00 \\right \\rangle + \\left | 11 \\right \\rangle \\right)\n",
    "$$"
   ]
  },
  {
   "cell_type": "code",
   "execution_count": 4,
   "id": "9c4440df",
   "metadata": {},
   "outputs": [
    {
     "name": "stdout",
     "output_type": "stream",
     "text": [
      "[[ 0.5]\n",
      " [ 0. ]\n",
      " [ 0. ]\n",
      " [ 0.5]\n",
      " [-0.5]\n",
      " [-0. ]\n",
      " [-0. ]\n",
      " [-0.5]]\n"
     ]
    }
   ],
   "source": [
    "# Combine the psi and EPR states to the full space\n",
    "psi = np.kron(phi, EPR)\n",
    "print(psi)"
   ]
  },
  {
   "cell_type": "markdown",
   "id": "80ae561a",
   "metadata": {},
   "source": [
    "Now let us preform the quantum teleportation. The first stage initializes the qubits; one which denotes what we want to send, and the other initialization for constructing an EPR pair. The second stage entangles Alice's qubit with the qubit from the EPR pair which Alice owns -- this is the main \"teleportation\" step."
   ]
  },
  {
   "cell_type": "code",
   "execution_count": 5,
   "id": "4ffdaf0d",
   "metadata": {},
   "outputs": [],
   "source": [
    "# Manually construct matrices and preform evolution\n",
    "# Define CNOT operation\n",
    "CNOT = np.eye(4)\n",
    "CNOT[2,2] = 0; CNOT[2,3] =1; CNOT[3,2] = 1; CNOT[3,3] = 0\n",
    "CNOT = np.kron(CNOT, np.eye(2))\n",
    "\n",
    "# Define hadamard operation\n",
    "HADAMARD = np.array([[1,1], [1,-1]])/np.sqrt(2)\n",
    "IDENTITY = np.kron(np.eye(2), np.eye(2))\n",
    "HADAMARD = np.kron(HADAMARD, IDENTITY)"
   ]
  },
  {
   "cell_type": "markdown",
   "id": "fefd0541",
   "metadata": {},
   "source": [
    "After performing all the operations we have a complete state (which is pure):"
   ]
  },
  {
   "cell_type": "code",
   "execution_count": 6,
   "id": "6ffac3dd",
   "metadata": {},
   "outputs": [
    {
     "name": "stdout",
     "output_type": "stream",
     "text": [
      "[[ 0.35355339]\n",
      " [-0.35355339]\n",
      " [-0.35355339]\n",
      " [ 0.35355339]\n",
      " [ 0.35355339]\n",
      " [ 0.35355339]\n",
      " [ 0.35355339]\n",
      " [ 0.35355339]]\n"
     ]
    }
   ],
   "source": [
    "psi = CNOT.dot(psi)\n",
    "psi = HADAMARD.dot(psi)\n",
    "print(psi)"
   ]
  },
  {
   "cell_type": "markdown",
   "id": "57dbbb37",
   "metadata": {},
   "source": [
    "### Measurement\n",
    "\n",
    "In the quantum teleportation protocol, we would then measure both of Alice's qubits and then send to Bob so that he can recover the sent state. But why do we need the classical bits? Generally this is motivated by showing we will have 4 possibilities after measuring Alice's qubits.\n",
    "\n",
    "Let's view through the lens of __quantum measurement__. What if we *measure but ignore the results* of Alice's qubits. Well now our pure states becomes a state matrix.\n",
    "\n",
    "In particular, we have an observable operator ($\\hat{\\Lambda}$) which can be diagonalized as:\n",
    "\n",
    "$$\n",
    "\\hat{\\Lambda} = \\sum_\\lambda \\lambda \\Pi_\\lambda\n",
    "$$\n",
    "\n",
    "The $\\Pi_\\lambda$ are *projective measurements* and $\\lambda$ are the eigenvalues.\n",
    "\n",
    "So by performing a measurement and ignoring the results, we take our pure state $\\rho_a = \\left | \\psi \\right\\rangle \\left \\langle \\psi \\right |$ and created a mixed state: $\\rho_b = \\sum_\\lambda \\Pi_\\lambda \\rho_a \\Pi_\\lambda$\n",
    "\n",
    "Moreover, this shows that, in general, a measurement is an entropy-increasing process, unless we *keep track* of the measurement results.\n",
    "\n",
    "#### Classical Measurement\n",
    "This result is different from what happens classically. When we have a classical state and perform a measurement, we can model it using Bayesian inference (which captures the *conditional*, disturbing, nature of the system - where the *state* of a system changes *given* the measurement outcome.) Using this model, non-disturbing measurements show that a-posteriori state is identical to the a-priori state."
   ]
  },
  {
   "cell_type": "code",
   "execution_count": 7,
   "id": "abeda653",
   "metadata": {},
   "outputs": [
    {
     "data": {
      "text/plain": [
       "array([[ 0.125, -0.125,  0.   ,  0.   ,  0.   ,  0.   ,  0.   ,  0.   ],\n",
       "       [-0.125,  0.125,  0.   ,  0.   ,  0.   ,  0.   ,  0.   ,  0.   ],\n",
       "       [ 0.   ,  0.   ,  0.125, -0.125,  0.   ,  0.   ,  0.   ,  0.   ],\n",
       "       [ 0.   ,  0.   , -0.125,  0.125,  0.   ,  0.   ,  0.   ,  0.   ],\n",
       "       [ 0.   ,  0.   ,  0.   ,  0.   ,  0.125,  0.125,  0.   ,  0.   ],\n",
       "       [ 0.   ,  0.   ,  0.   ,  0.   ,  0.125,  0.125,  0.   ,  0.   ],\n",
       "       [ 0.   ,  0.   ,  0.   ,  0.   ,  0.   ,  0.   ,  0.125,  0.125],\n",
       "       [ 0.   ,  0.   ,  0.   ,  0.   ,  0.   ,  0.   ,  0.125,  0.125]])"
      ]
     },
     "execution_count": 7,
     "metadata": {},
     "output_type": "execute_result"
    }
   ],
   "source": [
    "# Preform the projective measurement\n",
    "rho = np.zeros((8,8))\n",
    "for i in range(4):\n",
    "    P_i = np.zeros((8,8)); P_i[i*2,i*2] = 1; P_i[i*2+1,i*2+1] = 1\n",
    "    p_i = psi.conj().T.dot(P_i.dot(psi))\n",
    "    after_measure = P_i.dot(psi) / np.sqrt(p_i)\n",
    "    rho = rho + p_i * after_measure.dot(after_measure.conj().T)\n",
    "rho"
   ]
  },
  {
   "cell_type": "markdown",
   "id": "4e46efdb",
   "metadata": {},
   "source": [
    "Let us take a look at the purity of the system now as compared to before measurement. We can see entropy was increased!"
   ]
  },
  {
   "cell_type": "code",
   "execution_count": 8,
   "id": "72e72f65",
   "metadata": {},
   "outputs": [
    {
     "name": "stdout",
     "output_type": "stream",
     "text": [
      "Before measurement\n",
      "0.9999999999999991\n",
      "After measurement\n",
      "0.24999999999999967\n"
     ]
    }
   ],
   "source": [
    "r = np.outer(psi.conj().T, psi)\n",
    "print(\"Before measurement\")\n",
    "print(np.trace(r.dot(r)))\n",
    "print(\"After measurement\")\n",
    "print(np.trace(rho.dot(rho)))"
   ]
  },
  {
   "cell_type": "markdown",
   "id": "8bc9348e",
   "metadata": {},
   "source": [
    "Moreover, let use trace out Alice's system and only look at Bob's system. This will give us insight to what Bob currently knows (after the *measurement but ignoring the results*.)"
   ]
  },
  {
   "cell_type": "code",
   "execution_count": 9,
   "id": "714c6dfd",
   "metadata": {},
   "outputs": [],
   "source": [
    "tr_A = np.zeros((2,2))\n",
    "\n",
    "# By linearity in trace input\n",
    "for i in range(4):\n",
    "    # |b_1><b_2| <00|00>{<01|01|}{10|10}{11|11} = is already encoded in rho just find |b_1><b_2| (which are just blocks in rho)\n",
    "    tr_i = rho[np.ix_([i*2,i*2+1], [i*2, i*2+1])]\n",
    "    tr_A = tr_A + tr_i"
   ]
  },
  {
   "cell_type": "code",
   "execution_count": 10,
   "id": "65948e70",
   "metadata": {},
   "outputs": [
    {
     "name": "stdout",
     "output_type": "stream",
     "text": [
      "Bob's state matrix:\n",
      "[[0.5 0. ]\n",
      " [0.  0.5]]\n",
      "Clearly, this is maximally mixed:\n",
      "0.49999999999999933\n"
     ]
    }
   ],
   "source": [
    "print('Bob\\'s state matrix:')\n",
    "print(tr_A)\n",
    "\n",
    "print('Clearly, this is maximally mixed:')\n",
    "# Mixed state since < 1\n",
    "print(np.trace(tr_A.dot(tr_A)))"
   ]
  },
  {
   "cell_type": "markdown",
   "id": "c3f3c666",
   "metadata": {},
   "source": [
    "As we can see, Bob's state is $\\frac{1}{2} \\mathbf{I}$.\n",
    "\n",
    "Well this is a maximally-mixed state! Namely, Bob's state is mixture of states that all occur with equal probability; we have no clue what those states are, as there are infinitely many ways to construct (summing to) the identity.\n",
    "\n",
    "Now going back, if we did record the results then we would have 4 possible combinations (tracked by classical bits) and likewise we would know exactly the 4 pure states that Bob has, each occurring with probability $\\frac{1}{4}$. And hence we know what the summation to produce the identity!\n",
    "\n",
    "### Conclusion\n",
    "This mathematically shows the interesting ideas concerning *quantum measurement*. And more importantly, the difference between classical and quantum measurement -- where classically, if we ignore the measured result (i.e. non-disturbing), our a-posteriori *state* (how much we *know* about a system) does not change, where as in quantum it does!"
   ]
  }
 ],
 "metadata": {
  "jupytext": {
   "text_representation": {
    "extension": ".md",
    "format_name": "myst",
    "format_version": 0.13,
    "jupytext_version": "1.11.4"
   }
  },
  "kernelspec": {
   "display_name": "Python 3",
   "language": "python",
   "name": "python3"
  },
  "language_info": {
   "codemirror_mode": {
    "name": "ipython",
    "version": 3
   },
   "file_extension": ".py",
   "mimetype": "text/x-python",
   "name": "python",
   "nbconvert_exporter": "python",
   "pygments_lexer": "ipython3",
   "version": "3.9.13"
  },
  "source_map": [
   12,
   86,
   91,
   94,
   102,
   106,
   114,
   118,
   122,
   133,
   137,
   141,
   164,
   173,
   177,
   183,
   187,
   197,
   204
  ]
 },
 "nbformat": 4,
 "nbformat_minor": 5
}