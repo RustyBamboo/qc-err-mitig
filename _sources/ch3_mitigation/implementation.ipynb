{
 "cells": [
  {
   "cell_type": "markdown",
   "id": "184b63cb",
   "metadata": {},
   "source": [
    "# Physical Implementation\n",
    "\n",
    "Quantum computers are _real_ quantum systems that we wish to design and control. Moreover, quantum computers face quite the conflicting requirements: on one hand we wish to interact with the system to control and measure it; but on the other hand we wish to protect the system from the environment. None the less, experimental realizations of quantum computers has made significant progress in the past two decades.\n",
    "\n",
    "## Superconducting Qubits"
   ]
  },
  {
   "cell_type": "code",
   "execution_count": 1,
   "id": "202c0741",
   "metadata": {
    "tags": [
     "remove-cell"
    ]
   },
   "outputs": [],
   "source": [
    "import matplotlib.pyplot as plt\n",
    "import numpy as np"
   ]
  },
  {
   "cell_type": "markdown",
   "id": "5eef9b10",
   "metadata": {},
   "source": [
    "The Cooper Pair Box (CPB) Hamiltonian is:\n",
    "\n",
    "$$\n",
    "H_T = H_{el} + H_j\n",
    "$$\n",
    "\n",
    "where $H_{el}$ is the electrostatic component and $H_j$ is the nonlinear Josephson junction component. These can be written as:\n",
    "\n",
    "$$\n",
    "H_{el} = 4E_C(\\hat{n} - n_g)^2 \\approx \\sum_n 4E_C(n - n_g)^2 |n\\rangle\\langle n|\n",
    "$$\n",
    "\n",
    "$$\n",
    "H_j = -\\frac{E_j}{2} \\cos \\hat {\\theta} \\approx -\\frac{E_j}{2} \\sum_n |n\\rangle\\langle n+1| + |n+1\\rangle\\langle n|\n",
    "$$\n",
    "\n",
    "where $E_j$ is the Josephson energy of the junction, and $E_c$ is the charging energy inversely proportional to the total capacitance of the qubit circuit.\n",
    "\n",
    "\n",
    "This Hamiltonian is written in the basis of charge eigenstates, which is associated with the number $\\hat{n}$ of Cooper pairs.\n",
    "\n",
    "As a matrix, the Hamiltonian looks like \n",
    "\n",
    "$$\n",
    "H = \\begin{pmatrix}\n",
    "4 E_c (-n)^2 & - \\frac{E_j}{2} & & &  \\\\\n",
    "- \\frac{E_j}{2} & 4 E_c (-n+1)^2 & - \\frac{E_j}{2} & & \\\\\n",
    "& - \\frac{E_j}{2} & 4 E_c (-n+2)^2 & - \\frac{E_j}{2} & \\\\\n",
    "& & & & \\ddots\n",
    "\\end{pmatrix}\n",
    "$$\n",
    "\n",
    "The eigenvector relation \n",
    "\n",
    "$$\n",
    "H \\psi_i = E_i \\psi_i\n",
    "$$\n",
    "\n",
    "gives us\n",
    "\n",
    "$$\n",
    "- \\frac{E_j}{2} \\psi_{i, r-1} + (n - r)^2 \\psi_{i, r} - \\frac{E_j}{2} \\psi_{i, r+1} = E_i \\psi_i\n",
    "$$\n",
    "\n",
    "with boundary condition: $\\psi_0 = \\psi_{r+1} = 0$.\n",
    "\n",
    "\n",
    "### The Hamiltonian in Phase Basis\n",
    "\n",
    "The operator conjugated to $\\hat{n}$ is the superconducting phase $\\hat{\\theta}$:\n",
    "\n",
    "$$\n",
    "\\hat{\\theta}|\\theta \\rangle = \\theta |\\theta\\rangle\n",
    "$$\n",
    "\n",
    "where there is a circular topology:\n",
    "\n",
    "$$\n",
    "|\\theta\\rangle = |\\theta + 2\\pi\\rangle\n",
    "$$\n",
    "\n",
    "The set $\\{|\\theta\\rangle, \\theta \\in [0, 2\\pi]\\}$ for a complete basis.\n",
    "\n",
    "$$\n",
    "\\hat{n} = \\frac{1}{i}\\frac{\\partial}{\\partial \\theta}\n",
    "$$\n",
    "\n",
    "\n",
    "The $\\hat{\\phi}$ is superconducing phase difference which satisfies the commutation relation with $\\hat{N}$: \n",
    "\n",
    "$$\n",
    "[\\hat{\\phi}, \\hat{n}] = i\n",
    "$$\n",
    "\n",
    "In the phase representation the Hamiltonian can be written as:\n",
    "\n",
    "$$\n",
    "\\left[ -4 E_C \\frac{\\partial^2}{\\partial \\phi^2} - E_J \\cos \\phi\\right] \\psi(\\phi) = E\\psi(\\phi)\n",
    "$$\n",
    "\n",
    "Where $\\phi$ must satisfy boundary conditions: $\\phi(\\theta) = \\phi(\\theta + 2\\pi)$. This has the form of a Mathieu differential equation, which has known analytical solutions using Mathieu functions.\n",
    "\n",
    "The eigenvalues are:\n",
    "\n",
    "$$\n",
    "E_n = E_C M_a(\\mu_n, -\\frac{E_J}{2E_C})\n",
    "$$\n",
    "\n",
    "### Fitting the Hamiltonian\n",
    "\n",
    "In reality, once a superconducting chip is built, we do not have access to what the values of $E_j$ and $E_c$ are and therefore we must recover them. What we do have access to the is _frequencies_ (_energies_) of the qubit.\n",
    "\n",
    "As a first step, we can approximate $E_c$ and $E_j$ using the first three _transition_ frequencies\n",
    "\n",
    "- $w_{01} = E_1 - E_0$\n",
    "- $w_{12} = E_2 - E_1$\n",
    "\n",
    "$$\n",
    "\\omega_{01} - \\omega_{12} = E_C\n",
    "$$\n",
    "\n",
    "$$\n",
    "\\omega_{01} = \\sqrt{8 E_j E_C} - E_C \\Rightarrow E_J = \\frac{(w_{01} + E_C)^2}{8E_C}\n",
    "$$\n",
    "\n",
    "As an example, let us take the first free energy levels of `ibmq_armonk` and estimate $E_c$ and $E_j$:"
   ]
  },
  {
   "cell_type": "code",
   "execution_count": 2,
   "id": "2a608fe7",
   "metadata": {},
   "outputs": [
    {
     "name": "stdout",
     "output_type": "stream",
     "text": [
      "Approximation for E_c and E_j: 0.2242674100000004, 12.875919297023563\n"
     ]
    }
   ],
   "source": [
    "freq = [4.80637   , 4.58210259, 4.33777661]\n",
    "freq = np.array(freq)\n",
    "\n",
    "E_c = (freq[0] - freq[1])\n",
    "E_j = (freq[1] + E_c)**2/(8*E_c)\n",
    "ng = 0\n",
    "\n",
    "print(f\"Approximation for E_c and E_j: {E_c}, {E_j}\")"
   ]
  },
  {
   "cell_type": "markdown",
   "id": "9db06139",
   "metadata": {},
   "source": [
    "#### Optimizing the Fit\n",
    "\n",
    "Let us try to improve the fit by comparing how close the estimated energies are to the original energies, and then shifting the Hamiltonian parameters.\n",
    "\n",
    "\n",
    "A helper class computes the Hamiltonian and frequency transitions of a Transmon"
   ]
  },
  {
   "cell_type": "code",
   "execution_count": 3,
   "id": "b5357fde",
   "metadata": {},
   "outputs": [],
   "source": [
    "class Transmon:\n",
    "    def __init__(self, n_cut=40):\n",
    "        self.n_cut = n_cut\n",
    "        self._n = np.diag(np.arange(-n_cut, n_cut + 1))\n",
    "        self._hc_n2 = 4 * self._n @ self._n\n",
    "        self._hc_n1 = -2 * 4 * self._n\n",
    "        self._hc_n0 = 4 * np.eye(len(self._n))\n",
    "        self._hj =  -.5 * (np.diag(np.ones(2 * n_cut), 1) + np.diag(np.ones(2 * n_cut), -1))\n",
    "        \n",
    "    def __call__(self, ec, ej, ng=0, grad=False, grad_includes_ng=False):\n",
    "        h = ec * (self._hc_n2 + ng * self._hc_n1 + ng**2 * self._hc_n0) + ej * self._hj\n",
    "        \n",
    "        if grad:\n",
    "            dh_dec = (self._hc_n2 + ng * self._hc_n1 + ng**2 * self._hc_n0)\n",
    "            dh_dej = self._hj\n",
    "            if grad_includes_ng:\n",
    "                dh_dng = ec * (self._hc_n1 + 2 * ng * self._hc_n0)\n",
    "                grads = np.stack([dh_dec, dh_dej, dh_dng], axis=0)\n",
    "            else:\n",
    "                grads = np.stack([dh_dec, dh_dej], axis=0)\n",
    "            return h, grads\n",
    "        return h\n",
    "    \n",
    "    def transitions(self, ec, ej, ng=0, grad=False, grad_includes_ng=False):\n",
    "        if grad:\n",
    "            h, grads = self(ec, ej, ng=ng, grad=grad, grad_includes_ng=grad_includes_ng)\n",
    "            vals, vecs = np.linalg.eigh(h)\n",
    "            d_vals = np.einsum('xij,ia,ja->xa', grads, vecs.conj(), vecs)\n",
    "            return np.diff(vals), np.diff(d_vals, axis=-1)\n",
    "        return np.diff(np.linalg.eigvalsh(self(ec, ej, ng=ng)))"
   ]
  },
  {
   "cell_type": "markdown",
   "id": "d62c0ddf",
   "metadata": {},
   "source": [
    "Now let us optimize"
   ]
  },
  {
   "cell_type": "code",
   "execution_count": 4,
   "id": "c4a09c1c",
   "metadata": {},
   "outputs": [
    {
     "name": "stdout",
     "output_type": "stream",
     "text": [
      "Fitted E_c, E_j, and ng: [ 2.01700138e-01  1.55999907e+01 -1.37202718e-14]\n"
     ]
    }
   ],
   "source": [
    "def loss_with_grad(ec_ej_ng):\n",
    "    t, dt = transmon.transitions(*ec_ej_ng, grad=True, grad_includes_ng=len(ec_ej_ng)==3)\n",
    "    t = t[:freq.size]\n",
    "    dt = dt[:, :freq.size]\n",
    "    r = t - freq\n",
    "    dr = dt\n",
    "    loss = r @ r\n",
    "    grad_loss = 2 * dr @ r\n",
    "    return loss, grad_loss\n",
    "\n",
    "transmon = Transmon(40)\n",
    "\n",
    "x0 = [E_c, E_j, ng]\n",
    "\n",
    "from scipy.optimize import minimize\n",
    "result = minimize(loss_with_grad, x0=x0, jac=True)\n",
    "\n",
    "print(f\"Fitted E_c, E_j, and ng: {result.x}\")"
   ]
  },
  {
   "cell_type": "markdown",
   "id": "ef68b660",
   "metadata": {},
   "source": [
    "##### Error Landscape\n",
    "\n",
    "Let us visualize the error in different Hamiltonian parameters"
   ]
  },
  {
   "cell_type": "code",
   "execution_count": 5,
   "id": "aec3c2a0",
   "metadata": {},
   "outputs": [],
   "source": [
    "ec, ej = x0[:2]\n",
    "EJ = np.linspace(ej * (1 - .9), ej * (1 + .9), 51)\n",
    "EC = np.linspace(ec * (1 - .9), ec * (1 + .9), 50)\n",
    "losses = np.zeros((EC.size, EJ.size))\n",
    "grads = np.zeros((EC.size, EJ.size, 2))\n",
    "for i, ec in enumerate(EC):\n",
    "    for j, ej in enumerate(EJ):\n",
    "        losses[i, j], grads[i, j] = loss_with_grad([ec, ej])"
   ]
  },
  {
   "cell_type": "code",
   "execution_count": 6,
   "id": "f617862d",
   "metadata": {},
   "outputs": [
    {
     "data": {
      "image/png": "[encoded data removed]",
      "text/plain": [
       "<Figure size 432x288 with 2 Axes>"
      ]
     },
     "metadata": {
      "filenames": {
       "image/png": "/home/daniel/workspace/PhD_monorepo/qc-err-mitig/_build/jupyter_execute/ch3_mitigation/implementation_10_0.png"
      },
      "needs_background": "light"
     },
     "output_type": "display_data"
    }
   ],
   "source": [
    "plt.pcolormesh(EC, EJ, np.log(losses.T))\n",
    "plt.plot(*x0[:2], 'rd', label=\"Approximation\")\n",
    "plt.plot(*result.x[:2], 'r*', label=\"Optimization\")\n",
    "plt.xlabel(\"E_c\")\n",
    "plt.ylabel(\"E_j\")\n",
    "plt.title(\"Error Landscape\")\n",
    "plt.colorbar()\n",
    "plt.legend()\n",
    "plt.show()"
   ]
  },
  {
   "cell_type": "markdown",
   "id": "12d01a3a",
   "metadata": {},
   "source": [
    "### As a Qubit\n",
    "\n",
    "We can use the first two levels of the superconducting transmon to be our _qubit_. A key feature is that the energy levels are _anharmonic_, or in other words, the spacing between energy levels varies. This feature is crucial to be able to specifically control the qubit."
   ]
  },
  {
   "cell_type": "code",
   "execution_count": 7,
   "id": "bbebccd1",
   "metadata": {},
   "outputs": [
    {
     "data": {
      "image/png": "[encoded data removed]",
      "text/plain": [
       "<Figure size 432x288 with 1 Axes>"
      ]
     },
     "metadata": {
      "filenames": {
       "image/png": "/home/daniel/workspace/PhD_monorepo/qc-err-mitig/_build/jupyter_execute/ch3_mitigation/implementation_12_0.png"
      },
      "needs_background": "light"
     },
     "output_type": "display_data"
    }
   ],
   "source": [
    "H = transmon(*result.x)\n",
    "\n",
    "eigs, evecs = np.linalg.eigh(H)\n",
    "\n",
    "plt.title(\"Transmon Wavefunctions\")\n",
    "\n",
    "x = range(-transmon.n_cut, transmon.n_cut+1)\n",
    "\n",
    "plt.plot(x, evecs[:,0] + eigs[0], label=r\"$|0\\rangle$\")\n",
    "plt.plot(x, evecs[:,1] + eigs[1], label=r\"$|1\\rangle$\")\n",
    "plt.plot(x, evecs[:,2] + eigs[2], label=r\"$|2\\rangle$\")\n",
    "plt.plot(x, evecs[:,3] + eigs[3], label=r\"$|3\\rangle$\")\n",
    "plt.plot(x, evecs[:,4] + eigs[4], label=r\"$|4\\rangle$\")\n",
    "plt.xlabel(\"Charge states n\")\n",
    "plt.ylabel(\"Wavefunctions offset by frequency\")\n",
    "plt.legend()\n",
    "plt.show()"
   ]
  },
  {
   "cell_type": "markdown",
   "id": "424ed18b",
   "metadata": {},
   "source": [
    "References:\n",
    "\n",
    "- Lev Simon Bishop [Thesis](https://arxiv.org/pdf/1007.3520.pdf$$yThesis)\n",
    "\n",
    "<!-- ```{code-cell} ipython3\n",
    "# freq = [4.80637   , 4.58210259, 4.33777661]\n",
    "freq = [3.455869893752602, 3.2467206984967123, 3.011]\n",
    "transmon = Transmon(freq, method = 'fit')\n",
    "\n",
    "print(transmon._EC)\n",
    "print(transmon._EJ)\n",
    "\n",
    "print(transmon.result)\n",
    "\n",
    "cs, js, landscape = transmon.get_error_landscape(amount = 10)\n",
    "cs, js = np.meshgrid(cs, js)\n",
    "\n",
    "plt.contourf(cs, js, landscape)\n",
    "plt.colorbar()\n",
    "\n",
    "print(landscape)\n",
    "\n",
    "``` -->"
   ]
  }
 ],
 "metadata": {
  "jupytext": {
   "text_representation": {
    "extension": ".md",
    "format_name": "myst",
    "format_version": 0.13,
    "jupytext_version": "1.11.4"
   }
  },
  "kernelspec": {
   "display_name": "Python 3",
   "language": "python",
   "name": "python3"
  },
  "language_info": {
   "codemirror_mode": {
    "name": "ipython",
    "version": 3
   },
   "file_extension": ".py",
   "mimetype": "text/x-python",
   "name": "python",
   "nbconvert_exporter": "python",
   "pygments_lexer": "ipython3",
   "version": "3.10.7"
  },
  "source_map": [
   12,
   21,
   26,
   136,
   145,
   154,
   185,
   189,
   209,
   215,
   226,
   236,
   242,
   261
  ]
 },
 "nbformat": 4,
 "nbformat_minor": 5
}