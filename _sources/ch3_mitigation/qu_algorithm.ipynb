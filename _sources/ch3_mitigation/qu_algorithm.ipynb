{
 "cells": [
  {
   "cell_type": "markdown",
   "id": "9c3e3b99",
   "metadata": {},
   "source": [
    "# Quantum Algorithms\n",
    "\n",
    "Can we design algorithms that have inherent noise resilient? \n",
    "\n",
    "## Variational (Parameterized) Circuits\n",
    "\n",
    "> Sometimes also called _quantum machine learning_\n",
    "\n",
    "Idea: make the gates in a quantum computer dependent on tunable parameters. Then use classical machine learning to optimize these parameters subject to some _cost function_.\n",
    "\n",
    "```{image} varitional-circuit.png\n",
    ":align: center\n",
    "```\n",
    "\n",
    "```{note}\n",
    "\n",
    "$$\n",
    "\\begin{align}\n",
    "\\bra{\\psi(\\theta)} U \\ket{\\psi(\\theta)} &= \\sum_{i,j} \\bra{\\psi(\\theta)} \\ket{\\lambda_i}\\bra{\\lambda_i} U \\ket{\\lambda_j}\\bra{\\lambda_j} \\ket{\\psi(\\theta)}\\\\\n",
    "&= \\sum_\\lambda \\lambda |\\bra{\\psi_\\lambda}\\ket{\\psi(\\theta)}|^2 \\ge \\sum E_0 \\bra{\\psi_\\lambda}\\ket{\\psi(\\theta)} = E_0 \\bra{\\psi(\\theta)}\\ket{\\psi(\\theta)}\n",
    "\\end{align}\n",
    "$$\n",
    "\n",
    "```\n",
    "\n",
    "## Python Example\n",
    "\n",
    "Let us find the eigenvalues of the Hadamard gate $H$. We us a parameterized gate $U(\\theta, \\phi, \\lambda)$\n",
    "\n",
    "$$\n",
    "U(\\theta, \\phi, \\lambda) = \\begin{bmatrix} \\cos(\\theta/2) & -e^{i\\lambda} \\sin(\\theta/2) \\\\\n",
    "e^{i\\phi}\\sin(\\theta/2) & e^{i\\lambda + i \\phi} \\cos(\\theta/2)\n",
    "\\end{bmatrix}\n",
    "$$\n",
    "\n",
    "to prepare the state $\\ket{\\psi} = U(\\theta, \\phi, \\lambda)\\ket{0}$. We then calculate the loss function as \n",
    "\n",
    "$$\n",
    "\\mathcal{F} = \\bra{\\psi} H \\ket{\\psi}\n",
    "$$ (eq:loss-function)"
   ]
  },
  {
   "cell_type": "code",
   "execution_count": 1,
   "id": "96f0d234",
   "metadata": {},
   "outputs": [],
   "source": [
    "import numpy as np\n",
    "import matplotlib.pyplot as plt\n",
    "\n",
    "def U(theta, phi, lam):\n",
    "    U = np.array([\n",
    "            [np.cos(theta/2), -np.exp(-1j * lam) * np.sin(theta/2)],\n",
    "            [np.exp(1j * phi) * np.sin(theta/2), np.exp(1j * (phi + lam) * np.cos(theta/2))]\n",
    "        ])\n",
    "    return U\n",
    "\n",
    "H = np.array([[1, 1], [1, -1]]) / np.sqrt(2)\n"
   ]
  },
  {
   "cell_type": "markdown",
   "id": "b2e072f4",
   "metadata": {},
   "source": [
    "Let us plot the loss landscape."
   ]
  },
  {
   "cell_type": "code",
   "execution_count": 2,
   "id": "6632578d",
   "metadata": {},
   "outputs": [
    {
     "data": {
      "image/png": "[encoded data removed]",
      "text/plain": [
       "<Figure size 480x480 with 2 Axes>"
      ]
     },
     "metadata": {
      "filenames": {
       "image/png": "/home/daniel/workspace/qc-err-mitig/_build/jupyter_execute/ch3_mitigation/qu_algorithm_3_0.png"
      }
     },
     "output_type": "display_data"
    }
   ],
   "source": [
    "psi0 = np.array([[1], [0]])\n",
    "\n",
    "def exp_val(U):\n",
    "\n",
    "    psi_f = U @ psi0\n",
    "    val = psi_f.conj().T @ H @ psi_f\n",
    "    return val.real\n",
    "\n",
    "thetas = np.arange(0, 2 * np.pi, 0.5)\n",
    "phis = np.arange(0, 2 * np.pi, 0.5)\n",
    "\n",
    "result = np.zeros((len(thetas), len(phis)))\n",
    "\n",
    "for i, theta in enumerate(thetas):\n",
    "    for j, phi in enumerate(phis):\n",
    "\n",
    "        lam = 0\n",
    "        result[i, j] = exp_val(U(theta, phi, lam))\n",
    "\n",
    "plt.matshow(result, vmin=-1.0, vmax=1.0)\n",
    "plt.title(r\"$\\cal F$\")\n",
    "plt.xlabel(r\"$\\theta$\")\n",
    "plt.ylabel(r\"$\\phi$\")\n",
    "# plt.xticks(range(thetas), thetas)\n",
    "plt.colorbar()\n",
    "plt.show()\n"
   ]
  },
  {
   "cell_type": "code",
   "execution_count": 3,
   "id": "9271d4fb",
   "metadata": {},
   "outputs": [
    {
     "name": "stdout",
     "output_type": "stream",
     "text": [
      "The min/max values: -0.9973360132431252, 0.9950048847599382\n",
      "(4.000,0.000) -0.997: \n",
      "[[-0.65364362+0.j]\n",
      " [-0.7568025 +0.j]]\n",
      "\n",
      "(5.500,3.000) 0.995: \n",
      "[[ 0.70866977+0.j       ]\n",
      " [-0.67743886+0.1971389j]]\n",
      "\n"
     ]
    }
   ],
   "source": [
    "where = np.argwhere(result)\n",
    "theta_min, phi_min = where[np.argmin(result)]\n",
    "theta_max, phi_max = where[np.argmax(result)]\n",
    "\n",
    "print(f\"The min/max values: {result[theta_min, phi_min]}, {result[theta_max, phi_max]}\")\n",
    "\n",
    "psi_min = U(theta_min, phi_min, 0) @ psi0\n",
    "psi_max = U(theta_max, phi_max, 0) @ psi0\n",
    "\n",
    "print(f\"({thetas[theta_min]:.3f},{phis[phi_min]:.3f}) {result[theta_min, phi_min]:.3f}: \\n{psi_min}\\n\")\n",
    "print(f\"({thetas[theta_max]:.3f},{phis[phi_max]:.3f}) {result[theta_max, phi_max]:.3f}: \\n{psi_max}\\n\")"
   ]
  },
  {
   "cell_type": "markdown",
   "id": "ac75cf34",
   "metadata": {},
   "source": [
    "## Tips and Tricks\n",
    "\n",
    "*Post-selection*:\n",
    "\n",
    "> Conditioning on the outcome of a measurement on some other qubit.\n",
    "\n",
    "Good way to simulate having good control of the quantum computer, particularly for small systems. Not practical for large system since you may need to condition on an outcome that has very small probability of success.\n",
    "\n",
    "Example: Suppose we are finding the expectation value of some of some observable $\\cal O$. But we know $\\cal O$ has some commutation property with another observable $\\cal \\Lambda$. Therefore we have a constraint on the possible expectation values produced from $\\cal O$ subject to $\\cal \\Lambda$."
   ]
  }
 ],
 "metadata": {
  "jupytext": {
   "text_representation": {
    "extension": ".md",
    "format_name": "myst",
    "format_version": 0.13,
    "jupytext_version": "1.14.1"
   }
  },
  "kernelspec": {
   "display_name": "Python 3 (ipykernel)",
   "language": "python",
   "name": "python3"
  },
  "language_info": {
   "codemirror_mode": {
    "name": "ipython",
    "version": 3
   },
   "file_extension": ".py",
   "mimetype": "text/x-python",
   "name": "python",
   "nbconvert_exporter": "python",
   "pygments_lexer": "ipython3",
   "version": "3.9.13"
  },
  "source_map": [
   12,
   55,
   68,
   72,
   102,
   114
  ]
 },
 "nbformat": 4,
 "nbformat_minor": 5
}